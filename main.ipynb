{
 "cells": [
  {
   "attachments": {},
   "cell_type": "markdown",
   "metadata": {},
   "source": [
    " # Count And Identify Trees"
   ]
  },
  {
   "cell_type": "code",
   "execution_count": 1,
   "metadata": {},
   "outputs": [],
   "source": [
    "import rasterio\n",
    "from rasterio.transform import from_origin\n",
    "from rasterio.windows import Window\n",
    "from deepforest import main\n",
    "from deepforest import utilities\n",
    "import ffmpeg\n",
    "import os\n",
    "import re\n",
    "import pandas as pd\n",
    "\n"
   ]
  },
  {
   "cell_type": "code",
   "execution_count": 2,
   "metadata": {},
   "outputs": [],
   "source": [
    "class SrtParser:\n",
    "    def __init__(self,path):\n",
    "        self.path = path\n",
    "        file_to_read = open(path,'r')\n",
    "        self.data = file_to_read.read()\n",
    "        file_to_read.close()\n",
    "        self.subtitles = pd.DataFrame(columns=['index','start','end','text','latitude','longitude','distance','height','horizontal_speed','vertical_speed'])\n",
    "\n",
    "    def parseTime(self,time_str):\n",
    "        # Extract hours, minutes, and seconds from the time string\n",
    "        hours, minutes, seconds_milliseconds = time_str.split(':')\n",
    "        seconds, milliseconds = seconds_milliseconds.split(',')\n",
    "        \n",
    "        # Convert hours, minutes, and seconds to integers\n",
    "        hours = int(hours)\n",
    "        minutes = int(minutes)\n",
    "        seconds = int(seconds)\n",
    "        milliseconds = int(milliseconds)\n",
    "        \n",
    "        # Return the total number of milliseconds\n",
    "        return (hours * 3600 + minutes * 60 + seconds) * 1000 + milliseconds\n",
    "\n",
    "\n",
    "    def parseSubtitle(self,subtitle_str):\n",
    "        # Split the subtitle string into lines\n",
    "        lines = subtitle_str.strip().split('\\n')\n",
    "        \n",
    "        # Extract the index, start, and end times from the first line\n",
    "        index = int(lines[0])\n",
    "        start, end = map(self.parseTime, lines[1].split(' --> '))\n",
    "        \n",
    "        # Join the remaining lines into a single string\n",
    "        text = '\\n'.join(lines[2:])\n",
    "        \n",
    "        # Create and return a Subtitle object\n",
    "        new_subtitle = pd.DataFrame.from_dict({\n",
    "            'index': [index],\n",
    "            'start': [start],\n",
    "            'end': [end],\n",
    "            'text': [text],\n",
    "            'longitude': [float(text.split(',')[4].lstrip('GPS ('))],\n",
    "            'latitude': [float(text.split(',')[5])],\n",
    "            'distance': [float(text.split(',')[7].lstrip('D ').rstrip('m'))],\n",
    "            'height': [float(text.split(',')[8].lstrip('H ').rstrip('m'))],\n",
    "            'horizontal_speed': [float(text.split(',')[9].lstrip('H.S ').rstrip('m/s'))],\n",
    "            'vertical_speed': [float(text.split(',')[10].lstrip('V.S ').rstrip('m/s'))]\n",
    "        })\n",
    "        self.subtitles = pd.concat([self.subtitles,new_subtitle],ignore_index=True)\n",
    "\n",
    "    def parseSrt(self,srt_str):\n",
    "        # Split the srt string into a list of subtitle strings\n",
    "        subtitles = re.split('\\n\\n+', srt_str.strip())\n",
    "        \n",
    "        # Parse each subtitle string and return a list of Subtitle objects\n",
    "        for subtitle in subtitles:\n",
    "            self.parseSubtitle(subtitle)\n",
    "        return self.subtitles\n",
    "    \n",
    "    def parse(self):\n",
    "        return self.parseSrt(self.data)"
   ]
  },
  {
   "cell_type": "code",
   "execution_count": 3,
   "metadata": {},
   "outputs": [],
   "source": [
    "def prepareEnv(envName):\n",
    "    #If a path or filename is provided the env name is the basename of the given filename.\n",
    "    envName = os.path.basename(envName).split('.')[0]\n",
    "\n",
    "    if not os.path.exists('data'):\n",
    "        os.makedirs('data')\n",
    "    envPath = 'data/%s'%envName\n",
    "    if not os.path.exists(envPath):\n",
    "        os.makedirs(envPath)\n",
    "    srcImgsPath = '%s/srcImgs'%envPath\n",
    "    if not os.path.exists(srcImgsPath):\n",
    "        os.makedirs(srcImgsPath)\n",
    "    geoImgsPath = '%s/geoImgsPath'%envPath\n",
    "    if not os.path.exists(srcImgsPath):\n",
    "        os.makedirs(srcImgsPath)\n",
    "\n",
    "    config = {\n",
    "        envName: envName,\n",
    "        envPath: envPath,\n",
    "        srcImgsPath: srcImgsPath,\n",
    "        geoImgsPath: geoImgsPath\n",
    "    }\n",
    "\n",
    "    return config\n"
   ]
  },
  {
   "cell_type": "code",
   "execution_count": 4,
   "metadata": {},
   "outputs": [],
   "source": [
    "\n",
    "def extractMetaFromVideo(videoFileName): \n",
    "    config = prepareEnv(videoFileName)\n",
    "\n",
    "    ffmpeg.input(videoFileName).output('%s/subs.srt'%config.envPath, map = \"0:s:0\").run(overwrite_output=True)"
   ]
  },
  {
   "cell_type": "code",
   "execution_count": 5,
   "metadata": {},
   "outputs": [],
   "source": [
    "def createSrcImgs(videoFileName):\n",
    "    config = prepareEnv(videoFileName)\n",
    "    ffmpeg.input(videoFileName).output('%s/%s'%(config.srcImgsPath,\"src_%05d.png\"),r=1).run(overwrite_output=True)"
   ]
  },
  {
   "cell_type": "code",
   "execution_count": 6,
   "metadata": {},
   "outputs": [],
   "source": [
    "def generateGeoCodeImage(videoFileName,second,latidute,longitude):\n",
    "    config = prepareEnv(videoFileName)\n",
    "    src = rasterio.open('%s/src_%05d.png'%(config.srcImgsPath,second))\n",
    "    width, height = src.width, src.height\n",
    "    size = min(width, height)\n",
    "\n",
    "    # Set the metadata for the GeoTIFF\n",
    "    meta = {\n",
    "        'driver': 'GTiff',\n",
    "        'dtype': 'uint8',\n",
    "        'nodata': 0,\n",
    "        'width': size,\n",
    "        'height': size,\n",
    "        'count': 3,\n",
    "        'crs': rasterio.crs.CRS.from_epsg(4326),  # Set the CRS to EPSG: 4326 (WGS 84)\n",
    "        'transform': from_origin(latidute, longitude, 0.1, 0.1)  # Set the latitude and longitude coordinates as the origin\n",
    "    }\n",
    "\n",
    "    # Create the GeoTIFF file\n",
    "    with rasterio.open('%s/geo_%05d.tiff'%(config.geoImgsPath,second), 'w', **meta) as dst:\n",
    "        x_offset = (width - size) // 2\n",
    "        y_offset = (height - size) // 2\n",
    "        window = Window(x_offset, y_offset, size, size)\n",
    "\n",
    "        # Copy the data from the source image to the GeoTIFF\n",
    "        dst.write(src.read(window=window))\n",
    "\n",
    "    src.close()"
   ]
  },
  {
   "cell_type": "code",
   "execution_count": 7,
   "metadata": {},
   "outputs": [],
   "source": [
    "def predict(videoFileName,second):\n",
    "    config = prepareEnv(videoFileName)\n",
    "    path = '%s/geo_%05d.tiff'%(config.geoImgsPath,second)\n",
    "    r = rasterio.open(path)\n",
    "    transform = r.transform \n",
    "    crs = r.crs\n",
    "    r.close()\n",
    "\n",
    "    m = main.deepforest()\n",
    "    m.use_release(check_release=False)\n",
    "    df = m.predict_image(path=path)\n",
    "    gdf = utilities.annotations_to_shapefile(df, transform=transform, crs=crs)\n",
    "    return gdf"
   ]
  },
  {
   "cell_type": "code",
   "execution_count": 8,
   "metadata": {},
   "outputs": [],
   "source": [
    "#videoFileName = \"/Users/hakanonal/Downloads/temp_video_for_share.mp4\"\n",
    "#extractMetaFromVideo(videoFileName)\n",
    "#createSrcImgs(videoFileName)"
   ]
  }
 ],
 "metadata": {
  "kernelspec": {
   "display_name": "treecounter",
   "language": "python",
   "name": "python3"
  },
  "language_info": {
   "codemirror_mode": {
    "name": "ipython",
    "version": 3
   },
   "file_extension": ".py",
   "mimetype": "text/x-python",
   "name": "python",
   "nbconvert_exporter": "python",
   "pygments_lexer": "ipython3",
   "version": "3.9.15"
  },
  "orig_nbformat": 4,
  "vscode": {
   "interpreter": {
    "hash": "32c1fc7f9477b74b4b7b98ffb7b7ac32069450b8c1ae79b23bda4c044198760b"
   }
  }
 },
 "nbformat": 4,
 "nbformat_minor": 2
}
