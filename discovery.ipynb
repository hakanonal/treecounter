{
 "cells": [
  {
   "cell_type": "code",
   "execution_count": null,
   "metadata": {},
   "outputs": [],
   "source": [
    "from deepforest import main\n",
    "from deepforest import get_data\n",
    "import os\n",
    "import matplotlib.pyplot as plt"
   ]
  },
  {
   "cell_type": "code",
   "execution_count": null,
   "metadata": {},
   "outputs": [],
   "source": [
    "model = main.deepforest()\n"
   ]
  },
  {
   "cell_type": "code",
   "execution_count": null,
   "metadata": {},
   "outputs": [],
   "source": [
    "sample_image = get_data(\"OSBS_029.png\")\n",
    "sample_image"
   ]
  },
  {
   "cell_type": "code",
   "execution_count": null,
   "metadata": {},
   "outputs": [],
   "source": [
    "img = model.predict_image(path=sample_image,return_plot=True)\n",
    "\n",
    "#predict_image returns plot in BlueGreenRed (opencv style), but matplotlib likes RedGreenBlue, switch the channel order.\n",
    "plt.imshow(img[:,:,::-1])"
   ]
  },
  {
   "cell_type": "code",
   "execution_count": null,
   "metadata": {},
   "outputs": [],
   "source": [
    "local_sample_path = '/Users/hakanonal/vscode/deepforest/data/s3_400.png'\n",
    "img = model.predict_image(path=local_sample_path,return_plot=True,thickness=5)\n",
    "\n",
    "#predict_image returns plot in BlueGreenRed (opencv style), but matplotlib likes RedGreenBlue, switch the channel order.\n",
    "plt.imshow(img[:,:,::-1])"
   ]
  },
  {
   "cell_type": "code",
   "execution_count": null,
   "metadata": {},
   "outputs": [],
   "source": [
    "boxes = model.predict_image(path=local_sample_path, return_plot = False)\n",
    "boxes"
   ]
  },
  {
   "cell_type": "code",
   "execution_count": null,
   "metadata": {},
   "outputs": [],
   "source": [
    "raster_path = '/Users/hakanonal/vscode/deepforest/data/s1.tif'\n",
    "predicted_raster = model.predict_tile(raster_path, return_plot = True, patch_size=300,patch_overlap=0.25)\n",
    "plt.imshow(predicted_raster[:,:,::-1])"
   ]
  },
  {
   "cell_type": "code",
   "execution_count": null,
   "metadata": {},
   "outputs": [],
   "source": [
    "import rasterio\n",
    "\n",
    "img = get_data(\"OSBS_029.tif\")\n",
    "#img = \"/Users/hakanonal/vscode/deepforest/data/s1.tif\"\n",
    "#img = \"/Users/hakanonal/Downloads/temp_video_for_share.mp4\"\n",
    "r = rasterio.open(img)\n",
    "transform = r.transform \n",
    "crs = r.crs\n",
    "print(crs)"
   ]
  },
  {
   "cell_type": "code",
   "execution_count": null,
   "metadata": {},
   "outputs": [],
   "source": [
    "from deepforest import utilities\n",
    "\n",
    "m = main.deepforest()\n",
    "m.use_release(check_release=False)\n",
    "df = m.predict_image(path=img)\n",
    "gdf = utilities.annotations_to_shapefile(df, transform=transform, crs=crs)"
   ]
  },
  {
   "cell_type": "code",
   "execution_count": null,
   "metadata": {},
   "outputs": [],
   "source": [
    "gdf"
   ]
  },
  {
   "cell_type": "code",
   "execution_count": null,
   "metadata": {},
   "outputs": [],
   "source": [
    "import ffmpeg\n",
    "ffmpeg.probe(\"/Users/hakanonal/Downloads/temp_video_for_share.mp4\")"
   ]
  },
  {
   "cell_type": "code",
   "execution_count": null,
   "metadata": {},
   "outputs": [],
   "source": [
    " import subprocess\n",
    " \n",
    " # init command\n",
    " ffmpeg_command = [\"ffmpeg\", \"-i\",\"~/Downloads/temp_video_for_share.mp4\", \"-map\", \"0:s:0\", \"data/subs.srt\", \"pipe:1\"]\n",
    "\n",
    " # excute ffmpeg command\n",
    " pipe = subprocess.run(ffmpeg_command,\n",
    "                       stdout=subprocess.PIPE,\n",
    "                       stderr=subprocess.PIPE,\n",
    "                       bufsize=10**8)\n",
    "\n",
    " # debug\n",
    " print(pipe.stdout, pipe.stderr)\n",
    "\n"
   ]
  },
  {
   "cell_type": "code",
   "execution_count": null,
   "metadata": {},
   "outputs": [],
   "source": [
    "import ffmpeg\n",
    "ffmpeg.input(\"/Users/hakanonal/Downloads/temp_video_for_share.mp4\").output(\"pipe:\",format=\"txt\", map = \"0:s:0\").run()\n"
   ]
  },
  {
   "attachments": {},
   "cell_type": "markdown",
   "metadata": {},
   "source": [
    "I've asked to chatGPT:\n",
    "can you write me a code that creates geotiff from a png file and text? Here it is..."
   ]
  },
  {
   "cell_type": "code",
   "execution_count": 2,
   "metadata": {},
   "outputs": [
    {
     "ename": "IndexError",
     "evalue": "tuple index out of range",
     "output_type": "error",
     "traceback": [
      "\u001b[0;31m---------------------------------------------------------------------------\u001b[0m",
      "\u001b[0;31mIndexError\u001b[0m                                Traceback (most recent call last)",
      "Cell \u001b[0;32mIn[2], line 32\u001b[0m\n\u001b[1;32m     20\u001b[0m meta \u001b[39m=\u001b[39m {\n\u001b[1;32m     21\u001b[0m     \u001b[39m'\u001b[39m\u001b[39mdriver\u001b[39m\u001b[39m'\u001b[39m: \u001b[39m'\u001b[39m\u001b[39mGTiff\u001b[39m\u001b[39m'\u001b[39m,\n\u001b[1;32m     22\u001b[0m     \u001b[39m'\u001b[39m\u001b[39mdtype\u001b[39m\u001b[39m'\u001b[39m: \u001b[39m'\u001b[39m\u001b[39muint8\u001b[39m\u001b[39m'\u001b[39m,\n\u001b[0;32m   (...)\u001b[0m\n\u001b[1;32m     28\u001b[0m     \u001b[39m'\u001b[39m\u001b[39mtransform\u001b[39m\u001b[39m'\u001b[39m: calculate_default_transform(dst_crs\u001b[39m=\u001b[39m CRS\u001b[39m.\u001b[39mfrom_epsg(\u001b[39m4326\u001b[39m), src_crs\u001b[39m=\u001b[39m  CRS\u001b[39m.\u001b[39mfrom_epsg(\u001b[39m4326\u001b[39m), width\u001b[39m=\u001b[39m width, height\u001b[39m=\u001b[39m height, left\u001b[39m=\u001b[39m\u001b[39m0\u001b[39m,right\u001b[39m=\u001b[39m\u001b[39m1\u001b[39m,top\u001b[39m=\u001b[39m\u001b[39m0\u001b[39m,bottom\u001b[39m=\u001b[39m\u001b[39m1\u001b[39m)\n\u001b[1;32m     29\u001b[0m }\n\u001b[1;32m     31\u001b[0m \u001b[39m# Create a new GeoTIFF file\u001b[39;00m\n\u001b[0;32m---> 32\u001b[0m \u001b[39mwith\u001b[39;00m rasterio\u001b[39m.\u001b[39;49mopen(\u001b[39m'\u001b[39;49m\u001b[39mdata/firstGeo.tiff\u001b[39;49m\u001b[39m'\u001b[39;49m, \u001b[39m'\u001b[39;49m\u001b[39mw\u001b[39;49m\u001b[39m'\u001b[39;49m, \u001b[39m*\u001b[39;49m\u001b[39m*\u001b[39;49mmeta) \u001b[39mas\u001b[39;00m dst:\n\u001b[1;32m     33\u001b[0m     \u001b[39m# Convert the PNG image to a NumPy array\u001b[39;00m\n\u001b[1;32m     34\u001b[0m     png_array \u001b[39m=\u001b[39m np\u001b[39m.\u001b[39masarray(png)\n\u001b[1;32m     36\u001b[0m     \u001b[39m# Write the text to the GeoTIFF\u001b[39;00m\n",
      "File \u001b[0;32m~/opt/anaconda3/envs/treecounter/lib/python3.9/site-packages/rasterio/env.py:444\u001b[0m, in \u001b[0;36mensure_env_with_credentials.<locals>.wrapper\u001b[0;34m(*args, **kwds)\u001b[0m\n\u001b[1;32m    441\u001b[0m     session \u001b[39m=\u001b[39m DummySession()\n\u001b[1;32m    443\u001b[0m \u001b[39mwith\u001b[39;00m env_ctor(session\u001b[39m=\u001b[39msession):\n\u001b[0;32m--> 444\u001b[0m     \u001b[39mreturn\u001b[39;00m f(\u001b[39m*\u001b[39;49margs, \u001b[39m*\u001b[39;49m\u001b[39m*\u001b[39;49mkwds)\n",
      "File \u001b[0;32m~/opt/anaconda3/envs/treecounter/lib/python3.9/site-packages/rasterio/__init__.py:226\u001b[0m, in \u001b[0;36mopen\u001b[0;34m(fp, mode, driver, width, height, count, crs, transform, dtype, nodata, sharing, **kwargs)\u001b[0m\n\u001b[1;32m    224\u001b[0m     nodata \u001b[39m=\u001b[39m \u001b[39mfloat\u001b[39m(nodata)\n\u001b[1;32m    225\u001b[0m \u001b[39mif\u001b[39;00m transform:\n\u001b[0;32m--> 226\u001b[0m     transform \u001b[39m=\u001b[39m guard_transform(transform)\n\u001b[1;32m    228\u001b[0m \u001b[39m# Check driver/mode blacklist.\u001b[39;00m\n\u001b[1;32m    229\u001b[0m \u001b[39mif\u001b[39;00m driver \u001b[39mand\u001b[39;00m is_blacklisted(driver, mode):\n",
      "File \u001b[0;32m~/opt/anaconda3/envs/treecounter/lib/python3.9/site-packages/rasterio/transform.py:162\u001b[0m, in \u001b[0;36mguard_transform\u001b[0;34m(transform)\u001b[0m\n\u001b[1;32m    160\u001b[0m \u001b[39m\"\"\"Return an Affine transformation instance.\"\"\"\u001b[39;00m\n\u001b[1;32m    161\u001b[0m \u001b[39mif\u001b[39;00m \u001b[39mnot\u001b[39;00m \u001b[39misinstance\u001b[39m(transform, Affine):\n\u001b[0;32m--> 162\u001b[0m     \u001b[39mif\u001b[39;00m tastes_like_gdal(transform):\n\u001b[1;32m    163\u001b[0m         \u001b[39mraise\u001b[39;00m \u001b[39mTypeError\u001b[39;00m(\n\u001b[1;32m    164\u001b[0m             \u001b[39m\"\u001b[39m\u001b[39mGDAL-style transforms have been deprecated.  This \u001b[39m\u001b[39m\"\u001b[39m\n\u001b[1;32m    165\u001b[0m             \u001b[39m\"\u001b[39m\u001b[39mexception will be raised for a period of time to highlight \u001b[39m\u001b[39m\"\u001b[39m\n\u001b[1;32m    166\u001b[0m             \u001b[39m\"\u001b[39m\u001b[39mpotentially confusing errors, but will eventually be removed.\u001b[39m\u001b[39m\"\u001b[39m)\n\u001b[1;32m    167\u001b[0m     \u001b[39melse\u001b[39;00m:\n",
      "File \u001b[0;32m~/opt/anaconda3/envs/treecounter/lib/python3.9/site-packages/rasterio/transform.py:156\u001b[0m, in \u001b[0;36mtastes_like_gdal\u001b[0;34m(seq)\u001b[0m\n\u001b[1;32m    153\u001b[0m \u001b[39mdef\u001b[39;00m \u001b[39mtastes_like_gdal\u001b[39m(seq):\n\u001b[1;32m    154\u001b[0m     \u001b[39m\"\"\"Return True if `seq` matches the GDAL geotransform pattern.\"\"\"\u001b[39;00m\n\u001b[1;32m    155\u001b[0m     \u001b[39mreturn\u001b[39;00m \u001b[39mtuple\u001b[39m(seq) \u001b[39m==\u001b[39m GDAL_IDENTITY \u001b[39mor\u001b[39;00m (\n\u001b[0;32m--> 156\u001b[0m         seq[\u001b[39m2\u001b[39m] \u001b[39m==\u001b[39m seq[\u001b[39m4\u001b[39;49m] \u001b[39m==\u001b[39m \u001b[39m0.0\u001b[39m \u001b[39mand\u001b[39;00m seq[\u001b[39m1\u001b[39m] \u001b[39m>\u001b[39m \u001b[39m0\u001b[39m \u001b[39mand\u001b[39;00m seq[\u001b[39m5\u001b[39m] \u001b[39m<\u001b[39m \u001b[39m0\u001b[39m)\n",
      "\u001b[0;31mIndexError\u001b[0m: tuple index out of range"
     ]
    }
   ],
   "source": [
    "import rasterio\n",
    "from rasterio.warp import calculate_default_transform, reproject, Resampling\n",
    "from rasterio.crs import CRS\n",
    "from PIL import Image\n",
    "import numpy as np\n",
    "\n",
    "# Open the PNG file as an image\n",
    "png = Image.open('data/imgsFromVid/output_00251.png')\n",
    "\n",
    "# Extract the width and height of the image\n",
    "width, height = png.size\n",
    "\n",
    "crs = CRS.from_epsg(4326)\n",
    "#left=28.0271\n",
    "#top=38.5954\n",
    "left, top, right, bottom = png.getbbox()\n",
    "left, bottom, right, top = map(int, (left, bottom, right, top))\n",
    "\n",
    "# Set the metadata for the GeoTIFF\n",
    "meta = {\n",
    "    'driver': 'GTiff',\n",
    "    'dtype': 'uint8',\n",
    "    'nodata': 0,\n",
    "    'width': width,\n",
    "    'height': height,\n",
    "    'count': 3,\n",
    "    'crs': CRS.from_epsg(4326),  # Set the coordinate reference system (CRS) to WGS 84 (EPSG: 4326)\n",
    "    'transform': calculate_default_transform(dst_crs= CRS.from_epsg(4326), src_crs=  CRS.from_epsg(4326), width= width, height= height, left=0,right=1,top=0,bottom=1)\n",
    "}\n",
    "\n",
    "# Create a new GeoTIFF file\n",
    "with rasterio.open('data/firstGeo.tiff', 'w', **meta) as dst:\n",
    "    # Convert the PNG image to a NumPy array\n",
    "    png_array = np.asarray(png)\n",
    "\n",
    "    # Write the text to the GeoTIFF\n",
    "    dst.write(png_array)\n"
   ]
  },
  {
   "cell_type": "code",
   "execution_count": null,
   "metadata": {},
   "outputs": [],
   "source": [
    "import rasterio\n",
    "from rasterio.warp import calculate_default_transform, reproject, Resampling\n",
    "from rasterio.crs import CRS\n",
    "from PIL import Image\n",
    "import numpy as np\n",
    "\n",
    "# Open the PNG file as an image\n",
    "png = Image.open('data/imgsFromVid/output_00251.png')\n",
    "width, height = png.size\n",
    "crs = CRS.from_epsg(4326)\n",
    "left, top, right, bottom = png.getbbox()\n",
    "left, bottom, right, top = map(int, (left, bottom, right, top))\n",
    "\n"
   ]
  }
 ],
 "metadata": {
  "kernelspec": {
   "display_name": "treecounter",
   "language": "python",
   "name": "python3"
  },
  "language_info": {
   "codemirror_mode": {
    "name": "ipython",
    "version": 3
   },
   "file_extension": ".py",
   "mimetype": "text/x-python",
   "name": "python",
   "nbconvert_exporter": "python",
   "pygments_lexer": "ipython3",
   "version": "3.9.15"
  },
  "orig_nbformat": 4,
  "vscode": {
   "interpreter": {
    "hash": "32c1fc7f9477b74b4b7b98ffb7b7ac32069450b8c1ae79b23bda4c044198760b"
   }
  }
 },
 "nbformat": 4,
 "nbformat_minor": 2
}
