{
 "cells": [
  {
   "cell_type": "code",
   "execution_count": 1,
   "metadata": {},
   "outputs": [],
   "source": [
    "from deepforest import main\n",
    "from deepforest import get_data\n",
    "import os\n",
    "import matplotlib.pyplot as plt"
   ]
  },
  {
   "cell_type": "code",
   "execution_count": 2,
   "metadata": {},
   "outputs": [
    {
     "name": "stdout",
     "output_type": "stream",
     "text": [
      "Reading config file: /Users/hakanonal/opt/anaconda3/envs/treecounter/lib/python3.9/site-packages/deepforest/data/deepforest_config.yml\n"
     ]
    },
    {
     "name": "stderr",
     "output_type": "stream",
     "text": [
      "/Users/hakanonal/opt/anaconda3/envs/treecounter/lib/python3.9/site-packages/torchvision/models/_utils.py:208: UserWarning: The parameter 'pretrained' is deprecated since 0.13 and may be removed in the future, please use 'weights' instead.\n",
      "  warnings.warn(\n",
      "/Users/hakanonal/opt/anaconda3/envs/treecounter/lib/python3.9/site-packages/torchvision/models/_utils.py:223: UserWarning: Arguments other than a weight enum or `None` for 'weights' are deprecated since 0.13 and may be removed in the future. The current behavior is equivalent to passing `weights=RetinaNet_ResNet50_FPN_Weights.COCO_V1`. You can also use `weights=RetinaNet_ResNet50_FPN_Weights.DEFAULT` to get the most up-to-date weights.\n",
      "  warnings.warn(msg)\n"
     ]
    },
    {
     "ename": "",
     "evalue": "",
     "output_type": "error",
     "traceback": [
      "\u001b[1;31mGeçerli hücrede veya önceki bir hücrede kod yürütülürken Çekirdek kilitlendi. Hatanın olası nedenini belirlemek için lütfen hücrelerdeki kodu gözden geçirin. Daha fazla bilgi için <a href='https://aka.ms/vscodeJupyterKernelCrash'>buraya</a> tıklayın. Daha fazla ayrıntı için Jupyter <a href='command:jupyter.viewOutput'>günlüğünü</a> görüntüleyin."
     ]
    }
   ],
   "source": [
    "model = main.deepforest()\n"
   ]
  },
  {
   "cell_type": "code",
   "execution_count": null,
   "metadata": {},
   "outputs": [],
   "source": [
    "sample_image = get_data(\"OSBS_029.png\")\n",
    "sample_image"
   ]
  },
  {
   "cell_type": "code",
   "execution_count": null,
   "metadata": {},
   "outputs": [],
   "source": [
    "img = model.predict_image(path=sample_image,return_plot=True)\n",
    "\n",
    "#predict_image returns plot in BlueGreenRed (opencv style), but matplotlib likes RedGreenBlue, switch the channel order.\n",
    "plt.imshow(img[:,:,::-1])"
   ]
  },
  {
   "cell_type": "code",
   "execution_count": null,
   "metadata": {},
   "outputs": [],
   "source": [
    "local_sample_path = '/Users/hakanonal/vscode/deepforest/data/s3_400.png'\n",
    "img = model.predict_image(path=local_sample_path,return_plot=True,thickness=5)\n",
    "\n",
    "#predict_image returns plot in BlueGreenRed (opencv style), but matplotlib likes RedGreenBlue, switch the channel order.\n",
    "plt.imshow(img[:,:,::-1])"
   ]
  },
  {
   "cell_type": "code",
   "execution_count": null,
   "metadata": {},
   "outputs": [],
   "source": [
    "boxes = model.predict_image(path=local_sample_path, return_plot = False)"
   ]
  },
  {
   "cell_type": "code",
   "execution_count": null,
   "metadata": {},
   "outputs": [],
   "source": [
    "boxes"
   ]
  },
  {
   "cell_type": "code",
   "execution_count": null,
   "metadata": {},
   "outputs": [],
   "source": [
    "raster_path = '/Users/hakanonal/vscode/deepforest/data/s1.tif'\n",
    "predicted_raster = model.predict_tile(raster_path, return_plot = True, patch_size=300,patch_overlap=0.25)\n",
    "plt.imshow(predicted_raster[:,:,::-1])"
   ]
  },
  {
   "cell_type": "code",
   "execution_count": null,
   "metadata": {},
   "outputs": [],
   "source": [
    "import rasterio\n",
    "\n",
    "img = get_data(\"OSBS_029.tif\")\n",
    "#img = \"/Users/hakanonal/vscode/deepforest/data/s1.tif\"\n",
    "#img = \"/Users/hakanonal/Downloads/temp_video_for_share.mp4\"\n",
    "r = rasterio.open(img)\n",
    "transform = r.transform \n",
    "crs = r.crs\n",
    "print(crs)"
   ]
  },
  {
   "cell_type": "code",
   "execution_count": null,
   "metadata": {},
   "outputs": [],
   "source": [
    "from deepforest import utilities\n",
    "\n",
    "m = main.deepforest()\n",
    "m.use_release(check_release=False)\n",
    "df = m.predict_image(path=img)\n",
    "gdf = utilities.annotations_to_shapefile(df, transform=transform, crs=crs)"
   ]
  },
  {
   "cell_type": "code",
   "execution_count": null,
   "metadata": {},
   "outputs": [],
   "source": [
    "gdf"
   ]
  },
  {
   "cell_type": "code",
   "execution_count": null,
   "metadata": {},
   "outputs": [],
   "source": [
    "import ffmpeg\n",
    "ffmpeg.probe(\"/Users/hakanonal/Downloads/temp_video_for_share.mp4\")"
   ]
  }
 ],
 "metadata": {
  "kernelspec": {
   "display_name": "treecounter",
   "language": "python",
   "name": "python3"
  },
  "language_info": {
   "codemirror_mode": {
    "name": "ipython",
    "version": 3
   },
   "file_extension": ".py",
   "mimetype": "text/x-python",
   "name": "python",
   "nbconvert_exporter": "python",
   "pygments_lexer": "ipython3",
   "version": "3.9.15"
  },
  "orig_nbformat": 4,
  "vscode": {
   "interpreter": {
    "hash": "32c1fc7f9477b74b4b7b98ffb7b7ac32069450b8c1ae79b23bda4c044198760b"
   }
  }
 },
 "nbformat": 4,
 "nbformat_minor": 2
}
