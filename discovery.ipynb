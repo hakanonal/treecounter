{
 "cells": [
  {
   "cell_type": "code",
   "execution_count": null,
   "metadata": {},
   "outputs": [],
   "source": [
    "from deepforest import main\n",
    "from deepforest import get_data\n",
    "import os\n",
    "import matplotlib.pyplot as plt"
   ]
  },
  {
   "cell_type": "code",
   "execution_count": null,
   "metadata": {},
   "outputs": [],
   "source": [
    "model = main.deepforest()\n"
   ]
  },
  {
   "cell_type": "code",
   "execution_count": null,
   "metadata": {},
   "outputs": [],
   "source": [
    "sample_image = get_data(\"OSBS_029.png\")\n",
    "sample_image"
   ]
  },
  {
   "cell_type": "code",
   "execution_count": null,
   "metadata": {},
   "outputs": [],
   "source": [
    "img = model.predict_image(path=sample_image,return_plot=True)\n",
    "\n",
    "#predict_image returns plot in BlueGreenRed (opencv style), but matplotlib likes RedGreenBlue, switch the channel order.\n",
    "plt.imshow(img[:,:,::-1])"
   ]
  },
  {
   "cell_type": "code",
   "execution_count": null,
   "metadata": {},
   "outputs": [],
   "source": [
    "local_sample_path = '/Users/hakanonal/vscode/deepforest/data/s3_400.png'\n",
    "img = model.predict_image(path=local_sample_path,return_plot=True,thickness=5)\n",
    "\n",
    "#predict_image returns plot in BlueGreenRed (opencv style), but matplotlib likes RedGreenBlue, switch the channel order.\n",
    "plt.imshow(img[:,:,::-1])"
   ]
  },
  {
   "cell_type": "code",
   "execution_count": null,
   "metadata": {},
   "outputs": [],
   "source": [
    "boxes = model.predict_image(path=local_sample_path, return_plot = False)"
   ]
  },
  {
   "cell_type": "code",
   "execution_count": null,
   "metadata": {},
   "outputs": [],
   "source": [
    "boxes"
   ]
  },
  {
   "cell_type": "code",
   "execution_count": null,
   "metadata": {},
   "outputs": [],
   "source": [
    "raster_path = '/Users/hakanonal/vscode/deepforest/data/s1.tif'\n",
    "predicted_raster = model.predict_tile(raster_path, return_plot = True, patch_size=300,patch_overlap=0.25)\n",
    "plt.imshow(predicted_raster[:,:,::-1])"
   ]
  },
  {
   "cell_type": "code",
   "execution_count": null,
   "metadata": {},
   "outputs": [],
   "source": [
    "import rasterio\n",
    "\n",
    "img = get_data(\"OSBS_029.tif\")\n",
    "#img = \"/Users/hakanonal/vscode/deepforest/data/s1.tif\"\n",
    "#img = \"/Users/hakanonal/Downloads/temp_video_for_share.mp4\"\n",
    "r = rasterio.open(img)\n",
    "transform = r.transform \n",
    "crs = r.crs\n",
    "print(crs)"
   ]
  },
  {
   "cell_type": "code",
   "execution_count": null,
   "metadata": {},
   "outputs": [],
   "source": [
    "from deepforest import utilities\n",
    "\n",
    "m = main.deepforest()\n",
    "m.use_release(check_release=False)\n",
    "df = m.predict_image(path=img)\n",
    "gdf = utilities.annotations_to_shapefile(df, transform=transform, crs=crs)"
   ]
  },
  {
   "cell_type": "code",
   "execution_count": null,
   "metadata": {},
   "outputs": [],
   "source": [
    "gdf"
   ]
  },
  {
   "cell_type": "code",
   "execution_count": null,
   "metadata": {},
   "outputs": [],
   "source": [
    "import ffmpeg\n",
    "ffmpeg.probe(\"/Users/hakanonal/Downloads/temp_video_for_share.mp4\")"
   ]
  },
  {
   "cell_type": "code",
   "execution_count": null,
   "metadata": {},
   "outputs": [],
   "source": [
    " import subprocess\n",
    " \n",
    " # init command\n",
    " ffmpeg_command = [\"ffmpeg\", \"-i\",\"~/Downloads/temp_video_for_share.mp4\", \"-map\", \"0:s:0\", \"data/subs.srt\", \"pipe:1\"]\n",
    "\n",
    " # excute ffmpeg command\n",
    " pipe = subprocess.run(ffmpeg_command,\n",
    "                       stdout=subprocess.PIPE,\n",
    "                       stderr=subprocess.PIPE,\n",
    "                       bufsize=10**8)\n",
    "\n",
    " # debug\n",
    " print(pipe.stdout, pipe.stderr)\n",
    "\n"
   ]
  },
  {
   "cell_type": "code",
   "execution_count": 12,
   "metadata": {},
   "outputs": [
    {
     "name": "stderr",
     "output_type": "stream",
     "text": [
      "ffmpeg version N-109428-g10a56363a7-tessus  https://evermeet.cx/ffmpeg/  Copyright (c) 2000-2022 the FFmpeg developers\n",
      "  built with Apple clang version 11.0.0 (clang-1100.0.33.17)\n",
      "  configuration: --cc=/usr/bin/clang --prefix=/opt/ffmpeg --extra-version=tessus --enable-avisynth --enable-fontconfig --enable-gpl --enable-libaom --enable-libass --enable-libbluray --enable-libdav1d --enable-libfreetype --enable-libgsm --enable-libmodplug --enable-libmp3lame --enable-libmysofa --enable-libopencore-amrnb --enable-libopencore-amrwb --enable-libopenh264 --enable-libopenjpeg --enable-libopus --enable-librubberband --enable-libshine --enable-libsnappy --enable-libsoxr --enable-libspeex --enable-libtheora --enable-libtwolame --enable-libvidstab --enable-libvmaf --enable-libvo-amrwbenc --enable-libvorbis --enable-libvpx --enable-libwebp --enable-libx264 --enable-libx265 --enable-libxavs --enable-libxvid --enable-libzimg --enable-libzmq --enable-libzvbi --enable-version3 --pkg-config-flags=--static --disable-ffplay\n",
      "  libavutil      57. 43.100 / 57. 43.100\n",
      "  libavcodec     59. 55.103 / 59. 55.103\n",
      "  libavformat    59. 34.102 / 59. 34.102\n",
      "  libavdevice    59.  8.101 / 59.  8.101\n",
      "  libavfilter     8. 52.100 /  8. 52.100\n",
      "  libswscale      6.  8.112 /  6.  8.112\n",
      "  libswresample   4.  9.100 /  4.  9.100\n",
      "  libpostproc    56.  7.100 / 56.  7.100\n",
      "[mov,mp4,m4a,3gp,3g2,mj2 @ 0x7f81b1804240] All samples in data stream index:id [1:2] have zero duration, stream set to be discarded by default. Override using AVStream->discard or -discard for ffmpeg command.\n",
      "Input #0, mov,mp4,m4a,3gp,3g2,mj2, from '/Users/hakanonal/Downloads/temp_video_for_share.mp4':\n",
      "  Metadata:\n",
      "    major_brand     : avc1\n",
      "    minor_version   : 538182144\n",
      "    compatible_brands: avc1isom\n",
      "    creation_time   : 2022-12-07T08:23:39.000000Z\n",
      "    location        : +38.5969+28.0279\n",
      "    location-{    : +38.5969+28.0279\n",
      "    comment         : DE=None,SN=1SFLH4P0AB01GP, Type=Normal, HQ=Normal, Mode=P\n",
      "  Duration: 00:05:11.00, start: 0.000000, bitrate: 39883 kb/s\n",
      "  Stream #0:0[0x1](eng): Video: h264 (High) (avc1 / 0x31637661), yuv420p(tv, bt709, progressive), 2720x1530 [SAR 1:1 DAR 16:9], 39963 kb/s, 23.98 fps, 23.98 tbr, 24k tbn (default)\n",
      "    Metadata:\n",
      "      creation_time   : 2022-12-07T08:23:39.000000Z\n",
      "      handler_name    : ?DJI.AVC\n",
      "      vendor_id       : [0][0][0][0]\n",
      "      encoder         : AVC encoder\n",
      "  Stream #0:1[0x2](eng): Data: none (priv / 0x76697270)\n",
      "    Metadata:\n",
      "      creation_time   : 2022-12-07T08:23:39.000000Z\n",
      "      handler_name    : ?DJI.Meta\n",
      "  Stream #0:2[0x3](eng): Subtitle: mov_text (text / 0x74786574), 2 kb/s (default)\n",
      "    Metadata:\n",
      "      creation_time   : 2022-12-07T08:23:39.000000Z\n",
      "      handler_name    : ?DJI.Subtitle\n",
      "[NULL @ 0x7f81b1804740] Requested output format 'txt' is not a suitable output format\n",
      "pipe:: Invalid argument\n"
     ]
    },
    {
     "ename": "Error",
     "evalue": "ffmpeg error (see stderr output for detail)",
     "output_type": "error",
     "traceback": [
      "\u001b[0;31m---------------------------------------------------------------------------\u001b[0m",
      "\u001b[0;31mError\u001b[0m                                     Traceback (most recent call last)",
      "Cell \u001b[0;32mIn[12], line 2\u001b[0m\n\u001b[1;32m      1\u001b[0m \u001b[39mimport\u001b[39;00m \u001b[39mffmpeg\u001b[39;00m\n\u001b[0;32m----> 2\u001b[0m ffmpeg\u001b[39m.\u001b[39;49minput(\u001b[39m\"\u001b[39;49m\u001b[39m/Users/hakanonal/Downloads/temp_video_for_share.mp4\u001b[39;49m\u001b[39m\"\u001b[39;49m)\u001b[39m.\u001b[39;49moutput(\u001b[39m\"\u001b[39;49m\u001b[39mpipe:\u001b[39;49m\u001b[39m\"\u001b[39;49m,\u001b[39mformat\u001b[39;49m\u001b[39m=\u001b[39;49m\u001b[39m\"\u001b[39;49m\u001b[39mtxt\u001b[39;49m\u001b[39m\"\u001b[39;49m, \u001b[39mmap\u001b[39;49m \u001b[39m=\u001b[39;49m \u001b[39m\"\u001b[39;49m\u001b[39m0:s:0\u001b[39;49m\u001b[39m\"\u001b[39;49m)\u001b[39m.\u001b[39;49mrun()\n",
      "File \u001b[0;32m~/opt/anaconda3/envs/treecounter/lib/python3.9/site-packages/ffmpeg/_run.py:325\u001b[0m, in \u001b[0;36mrun\u001b[0;34m(stream_spec, cmd, capture_stdout, capture_stderr, input, quiet, overwrite_output)\u001b[0m\n\u001b[1;32m    323\u001b[0m retcode \u001b[39m=\u001b[39m process\u001b[39m.\u001b[39mpoll()\n\u001b[1;32m    324\u001b[0m \u001b[39mif\u001b[39;00m retcode:\n\u001b[0;32m--> 325\u001b[0m     \u001b[39mraise\u001b[39;00m Error(\u001b[39m'\u001b[39m\u001b[39mffmpeg\u001b[39m\u001b[39m'\u001b[39m, out, err)\n\u001b[1;32m    326\u001b[0m \u001b[39mreturn\u001b[39;00m out, err\n",
      "\u001b[0;31mError\u001b[0m: ffmpeg error (see stderr output for detail)"
     ]
    }
   ],
   "source": [
    "import ffmpeg\n",
    "ffmpeg.input(\"/Users/hakanonal/Downloads/temp_video_for_share.mp4\").output(\"pipe:\",format=\"txt\", map = \"0:s:0\").run()\n"
   ]
  }
 ],
 "metadata": {
  "kernelspec": {
   "display_name": "treecounter",
   "language": "python",
   "name": "python3"
  },
  "language_info": {
   "codemirror_mode": {
    "name": "ipython",
    "version": 3
   },
   "file_extension": ".py",
   "mimetype": "text/x-python",
   "name": "python",
   "nbconvert_exporter": "python",
   "pygments_lexer": "ipython3",
   "version": "3.9.15"
  },
  "orig_nbformat": 4,
  "vscode": {
   "interpreter": {
    "hash": "32c1fc7f9477b74b4b7b98ffb7b7ac32069450b8c1ae79b23bda4c044198760b"
   }
  }
 },
 "nbformat": 4,
 "nbformat_minor": 2
}
