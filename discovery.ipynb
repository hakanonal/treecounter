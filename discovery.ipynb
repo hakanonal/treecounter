{
 "cells": [
  {
   "cell_type": "code",
   "execution_count": null,
   "metadata": {},
   "outputs": [],
   "source": [
    "from deepforest import main\n",
    "from deepforest import get_data\n",
    "import os\n",
    "import matplotlib.pyplot as plt\n",
    "model = main.deepforest()\n",
    "model.use_release()"
   ]
  },
  {
   "cell_type": "code",
   "execution_count": null,
   "metadata": {},
   "outputs": [],
   "source": [
    "sample_image = get_data(\"OSBS_029.png\")\n",
    "sample_image"
   ]
  },
  {
   "cell_type": "code",
   "execution_count": null,
   "metadata": {},
   "outputs": [],
   "source": [
    "img = model.predict_image(path=sample_image,return_plot=True)\n",
    "\n",
    "#predict_image returns plot in BlueGreenRed (opencv style), but matplotlib likes RedGreenBlue, switch the channel order.\n",
    "plt.imshow(img[:,:,::-1])"
   ]
  },
  {
   "cell_type": "code",
   "execution_count": null,
   "metadata": {},
   "outputs": [],
   "source": [
    "local_sample_path = '/Users/hakanonal/vscode/deepforest/data/s3_400.png'\n",
    "img = model.predict_image(path=local_sample_path,return_plot=True,thickness=5)\n",
    "\n",
    "#predict_image returns plot in BlueGreenRed (opencv style), but matplotlib likes RedGreenBlue, switch the channel order.\n",
    "plt.imshow(img[:,:,::-1])"
   ]
  },
  {
   "cell_type": "code",
   "execution_count": null,
   "metadata": {},
   "outputs": [],
   "source": [
    "boxes = model.predict_image(path=local_sample_path, return_plot = False)"
   ]
  },
  {
   "cell_type": "code",
   "execution_count": null,
   "metadata": {},
   "outputs": [],
   "source": [
    "boxes"
   ]
  },
  {
   "cell_type": "code",
   "execution_count": null,
   "metadata": {},
   "outputs": [],
   "source": [
    "raster_path = '/Users/hakanonal/vscode/deepforest/data/s1.tif'\n",
    "predicted_raster = model.predict_tile(raster_path, return_plot = True, patch_size=300,patch_overlap=0.25)\n",
    "plt.imshow(predicted_raster[:,:,::-1])"
   ]
  },
  {
   "cell_type": "code",
   "execution_count": null,
   "metadata": {},
   "outputs": [],
   "source": [
    "import rasterio\n",
    "\n",
    "img = get_data(\"OSBS_029.tif\")\n",
    "#img = \"/Users/hakanonal/vscode/deepforest/data/s1.tif\"\n",
    "#img = \"/Users/hakanonal/Downloads/temp_video_for_share.mp4\"\n",
    "r = rasterio.open(img)\n",
    "transform = r.transform \n",
    "crs = r.crs\n",
    "print(crs)"
   ]
  },
  {
   "cell_type": "code",
   "execution_count": null,
   "metadata": {},
   "outputs": [],
   "source": [
    "from deepforest import utilities\n",
    "\n",
    "m = main.deepforest()\n",
    "m.use_release(check_release=False)\n",
    "df = m.predict_image(path=img)\n",
    "gdf = utilities.annotations_to_shapefile(df, transform=transform, crs=crs)"
   ]
  },
  {
   "cell_type": "code",
   "execution_count": null,
   "metadata": {},
   "outputs": [],
   "source": [
    "gdf"
   ]
  },
  {
   "cell_type": "code",
   "execution_count": 17,
   "metadata": {},
   "outputs": [
    {
     "data": {
      "text/plain": [
       "{'streams': [{'index': 0,\n",
       "   'codec_name': 'h264',\n",
       "   'codec_long_name': 'H.264 / AVC / MPEG-4 AVC / MPEG-4 part 10',\n",
       "   'profile': 'High',\n",
       "   'codec_type': 'video',\n",
       "   'codec_tag_string': 'avc1',\n",
       "   'codec_tag': '0x31637661',\n",
       "   'width': 2720,\n",
       "   'height': 1530,\n",
       "   'coded_width': 2720,\n",
       "   'coded_height': 1530,\n",
       "   'closed_captions': 0,\n",
       "   'film_grain': 0,\n",
       "   'has_b_frames': 1,\n",
       "   'sample_aspect_ratio': '1:1',\n",
       "   'display_aspect_ratio': '16:9',\n",
       "   'pix_fmt': 'yuv420p',\n",
       "   'level': 50,\n",
       "   'color_range': 'tv',\n",
       "   'color_space': 'bt709',\n",
       "   'color_transfer': 'bt709',\n",
       "   'color_primaries': 'bt709',\n",
       "   'chroma_location': 'left',\n",
       "   'field_order': 'progressive',\n",
       "   'refs': 1,\n",
       "   'is_avc': 'true',\n",
       "   'nal_length_size': '4',\n",
       "   'id': '0x1',\n",
       "   'r_frame_rate': '24000/1001',\n",
       "   'avg_frame_rate': '24000/1001',\n",
       "   'time_base': '1/24000',\n",
       "   'start_pts': 0,\n",
       "   'start_time': '0.000000',\n",
       "   'duration_ts': 7447440,\n",
       "   'duration': '310.310000',\n",
       "   'bit_rate': '39963775',\n",
       "   'bits_per_raw_sample': '8',\n",
       "   'nb_frames': '7440',\n",
       "   'extradata_size': 70,\n",
       "   'disposition': {'default': 1,\n",
       "    'dub': 0,\n",
       "    'original': 0,\n",
       "    'comment': 0,\n",
       "    'lyrics': 0,\n",
       "    'karaoke': 0,\n",
       "    'forced': 0,\n",
       "    'hearing_impaired': 0,\n",
       "    'visual_impaired': 0,\n",
       "    'clean_effects': 0,\n",
       "    'attached_pic': 0,\n",
       "    'timed_thumbnails': 0,\n",
       "    'captions': 0,\n",
       "    'descriptions': 0,\n",
       "    'metadata': 0,\n",
       "    'dependent': 0,\n",
       "    'still_image': 0},\n",
       "   'tags': {'creation_time': '2022-12-07T08:23:39.000000Z',\n",
       "    'language': 'eng',\n",
       "    'handler_name': '\\x10DJI.AVC',\n",
       "    'vendor_id': '[0][0][0][0]',\n",
       "    'encoder': 'AVC encoder'}},\n",
       "  {'index': 1,\n",
       "   'codec_type': 'data',\n",
       "   'codec_tag_string': 'priv',\n",
       "   'codec_tag': '0x76697270',\n",
       "   'id': '0x2',\n",
       "   'r_frame_rate': '0/0',\n",
       "   'avg_frame_rate': '0/0',\n",
       "   'time_base': '1/24000',\n",
       "   'start_pts': 0,\n",
       "   'start_time': '0.000000',\n",
       "   'duration_ts': 7464000,\n",
       "   'duration': '311.000000',\n",
       "   'nb_frames': '312',\n",
       "   'disposition': {'default': 0,\n",
       "    'dub': 0,\n",
       "    'original': 0,\n",
       "    'comment': 0,\n",
       "    'lyrics': 0,\n",
       "    'karaoke': 0,\n",
       "    'forced': 0,\n",
       "    'hearing_impaired': 0,\n",
       "    'visual_impaired': 0,\n",
       "    'clean_effects': 0,\n",
       "    'attached_pic': 0,\n",
       "    'timed_thumbnails': 0,\n",
       "    'captions': 0,\n",
       "    'descriptions': 0,\n",
       "    'metadata': 0,\n",
       "    'dependent': 0,\n",
       "    'still_image': 0},\n",
       "   'tags': {'creation_time': '2022-12-07T08:23:39.000000Z',\n",
       "    'language': 'eng',\n",
       "    'handler_name': '\\x10DJI.Meta'}},\n",
       "  {'index': 2,\n",
       "   'codec_name': 'mov_text',\n",
       "   'codec_long_name': 'MOV text',\n",
       "   'codec_type': 'subtitle',\n",
       "   'codec_tag_string': 'text',\n",
       "   'codec_tag': '0x74786574',\n",
       "   'id': '0x3',\n",
       "   'r_frame_rate': '0/0',\n",
       "   'avg_frame_rate': '0/0',\n",
       "   'time_base': '1/24000',\n",
       "   'start_pts': 0,\n",
       "   'start_time': '0.000000',\n",
       "   'duration_ts': 7464000,\n",
       "   'duration': '311.000000',\n",
       "   'bit_rate': '2048',\n",
       "   'nb_frames': '311',\n",
       "   'disposition': {'default': 1,\n",
       "    'dub': 0,\n",
       "    'original': 0,\n",
       "    'comment': 0,\n",
       "    'lyrics': 0,\n",
       "    'karaoke': 0,\n",
       "    'forced': 0,\n",
       "    'hearing_impaired': 0,\n",
       "    'visual_impaired': 0,\n",
       "    'clean_effects': 0,\n",
       "    'attached_pic': 0,\n",
       "    'timed_thumbnails': 0,\n",
       "    'captions': 0,\n",
       "    'descriptions': 0,\n",
       "    'metadata': 0,\n",
       "    'dependent': 0,\n",
       "    'still_image': 0},\n",
       "   'tags': {'creation_time': '2022-12-07T08:23:39.000000Z',\n",
       "    'language': 'eng',\n",
       "    'handler_name': '\\x10DJI.Subtitle'}}],\n",
       " 'format': {'filename': '/Users/hakanonal/Downloads/temp_video_for_share.mp4',\n",
       "  'nb_streams': 3,\n",
       "  'nb_programs': 0,\n",
       "  'format_name': 'mov,mp4,m4a,3gp,3g2,mj2',\n",
       "  'format_long_name': 'QuickTime / MOV',\n",
       "  'start_time': '0.000000',\n",
       "  'duration': '311.000000',\n",
       "  'size': '1550483781',\n",
       "  'bit_rate': '39883827',\n",
       "  'probe_score': 100,\n",
       "  'tags': {'major_brand': 'avc1',\n",
       "   'minor_version': '538182144',\n",
       "   'compatible_brands': 'avc1isom',\n",
       "   'creation_time': '2022-12-07T08:23:39.000000Z',\n",
       "   'location': '+38.5969+28.0279',\n",
       "   'location-\\x7f{\\x7f': '+38.5969+28.0279',\n",
       "   'comment': 'DE=None,SN=1SFLH4P0AB01GP, Type=Normal, HQ=Normal, Mode=P'}}}"
      ]
     },
     "execution_count": 17,
     "metadata": {},
     "output_type": "execute_result"
    }
   ],
   "source": [
    "import ffmpeg\n",
    "ffmpeg.probe(\"/Users/hakanonal/Downloads/temp_video_for_share.mp4\")"
   ]
  }
 ],
 "metadata": {
  "kernelspec": {
   "display_name": "treecounter",
   "language": "python",
   "name": "python3"
  },
  "language_info": {
   "codemirror_mode": {
    "name": "ipython",
    "version": 3
   },
   "file_extension": ".py",
   "mimetype": "text/x-python",
   "name": "python",
   "nbconvert_exporter": "python",
   "pygments_lexer": "ipython3",
   "version": "3.9.15"
  },
  "orig_nbformat": 4,
  "vscode": {
   "interpreter": {
    "hash": "32c1fc7f9477b74b4b7b98ffb7b7ac32069450b8c1ae79b23bda4c044198760b"
   }
  }
 },
 "nbformat": 4,
 "nbformat_minor": 2
}
